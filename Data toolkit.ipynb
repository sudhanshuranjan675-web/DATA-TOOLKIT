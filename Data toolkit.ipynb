{
 "cells": [
  {
   "cell_type": "code",
   "execution_count": null,
   "id": "0c09e0cd-6f20-4b07-8931-0ec90f9a7db0",
   "metadata": {},
   "outputs": [],
   "source": [
    "#Q​1. What is NumPy, and why is it widely used in Python?\n",
    "\n",
    "​NumPy (Numerical Python) is a fundamental library for scientific computing in Python. It provides a high-performance multidimensional array object and tools for working with these arrays. It's widely used because it's significantly faster and more memory-efficient than standard Python lists for numerical operations. Many other data science libraries, such as Pandas and Matplotlib, are built on top of NumPy.\n",
    "\n",
    "#Q​2. How does broadcasting work in NumPy?\n",
    "\n",
    "​Broadcasting is a powerful feature in NumPy that allows arithmetic operations to be performed on arrays of different shapes. It automatically stretches or \"broadcasts\" the smaller array to match the shape of the larger array without making copies, which is efficient. For example, adding a single number to an entire array will add that number to every element.\n",
    "\n",
    "#Q​3. What is a Pandas DataFrame?\n",
    "\n",
    "​A Pandas DataFrame is a two-dimensional, size-mutable, and potentially heterogeneous tabular data structure with labeled axes (rows and columns). Think of it like a spreadsheet or a SQL table. It's the most common object in Pandas and is used to store and manipulate data.\n",
    "\n",
    "#Q​4. Explain the use of the groupby() method in Pandas.\n",
    "\n",
    "​The groupby() method is used to split a DataFrame into groups based on some criterion. It's often used with an aggregation function to perform a calculation on each group. The process typically involves three steps:\n",
    "​Splitting the data into groups.\n",
    "​Applying a function (like sum(), mean(), or count()) to each group.\n",
    "​Combining the results into a single object.\n",
    "\n",
    "#Q​5. Why is Seaborn preferred for statistical visualizations?\n",
    "\n",
    "​Seaborn is a library built on top of Matplotlib that is specialized for creating attractive and informative statistical graphics. It has a high-level interface for drawing complex plots like heatmaps and violin plots. It's preferred because it simplifies the process of creating statistical visualizations, handles common plotting tasks automatically (like mapping data to visual properties), and has built-in themes for a cleaner aesthetic.\n",
    "\n",
    "#Q6. What are the differences between NumPy arrays and Python lists?\n",
    "\n",
    "The main differences are:\n",
    "Data Type: NumPy arrays are homogeneous, meaning all elements must be of the same data type. Python lists are heterogeneous and can contain elements of different types.\n",
    "Performance: NumPy arrays are significantly faster and more memory-efficient for numerical operations due to their fixed data type and C implementation.\n",
    "Functionality: NumPy arrays are optimized for numerical operations and provide a wide range of mathematical functions. Python lists are more general-purpose data containers.\n",
    "\n",
    "#Q7. What is a heatmap, and when should it be used?\n",
    "\n",
    "A heatmap is a graphical representation of data where values are depicted by color. It's a great tool for visualizing a two-dimensional matrix of data, such as a correlation matrix. You should use a heatmap when you want to quickly see patterns, such as which variables are most correlated, which is a common task in exploratory data analysis.\n",
    "\n",
    "#Q8. What does the term \"vectorized operation\" mean in NumPy?\n",
    "\n",
    "A vectorized operation refers to applying a function or operation to every element in an array without using an explicit for loop. Instead, the operation is performed on the entire array at once. This approach is much more efficient because it leverages low-level C code, avoiding the overhead of the Python interpreter, leading to significant performance gains.\n",
    "\n",
    "#Q9. How does Matplotlib differ from Plotly?\n",
    "\n",
    "Matplotlib is a low-level, highly customizable plotting library. It gives you fine-grained control over every aspect of a plot, but often requires more code to create a complex visualization. Plotly, on the other hand, is a high-level library that specializes in creating interactive, web-based visualizations. Its plots can be easily embedded in web applications and support features like hovering over data points for more information.\n",
    "\n",
    "#Q10. What is the significance of hierarchical indexing in Pandas?\n",
    "\n",
    "​Hierarchical indexing (also known as MultiIndex) allows you to have multiple levels of row and/or column labels on a Pandas DataFrame or Series.\n",
    "​Significance:\n",
    "​Handling Complex Data: It's essential for working with data that has natural hierarchical relationships, such as time-series data with multiple frequencies (e.g., year, month, day) or data from a relational database.\n",
    "​Data Organization: It provides a structured way to organize and slice high-dimensional data within a 2D structure.\n",
    "​Simplified Operations: You can perform group-by and aggregation operations at different levels of the hierarchy, which is more efficient than creating new columns.\n",
    "\n",
    "#Q​11. What is the role of Seaborn's pairplot() function?\n",
    "\n",
    "​The pairplot() function creates a grid of plots, showing the relationships between all pairs of variables in a dataset.\n",
    "​Diagonal Plots: The plots on the diagonal show the distribution of each individual variable (typically a histogram or KDE plot).\n",
    "​Off-Diagonal Plots: The plots off the diagonal show scatter plots of the pairs of variables, helping to visualize correlations and relationships.\n",
    "​It's a powerful tool for initial data exploration (EDA) to quickly identify potential correlations or patterns in a dataset.\n",
    "\n",
    "#Q​12. What is the purpose of the describe() function in Pandas?\n",
    "\n",
    "​The describe() function generates descriptive statistics of a DataFrame. For numerical columns, it provides:\n",
    "​count: The number of non-null values.\n",
    "​mean: The average value.\n",
    "​std: The standard deviation.\n",
    "​min, max: The minimum and maximum values.\n",
    "​25%, 50%, 75%: The quartiles (25th, 50th/median, and 75th percentiles).\n",
    "​For non-numerical columns, it provides a different set of statistics, such as count, unique, top, and freq. Its purpose is to give a quick summary of the central tendency, dispersion, and shape of a dataset's distribution.\n",
    "\n",
    "#Q​13. Why is handling missing data important in Pandas?\n",
    "\n",
    "​Missing data (represented as NaN or NaT in Pandas) is a common issue in real-world datasets. Handling it is crucial for several reasons:\n",
    "​Data Integrity: Missing values can lead to inaccurate or misleading analysis. For example, a mean calculated without handling missing values might be wrong.\n",
    "​Model Performance: Most machine learning algorithms cannot handle missing values and will either fail or produce poor results.\n",
    "​Statistical Bias: Ignoring missing values can introduce bias into your analysis, especially if the missingness is not random.\n",
    "​Common techniques for handling missing data include dropping rows/columns with missing values, filling them with a value (e.g., mean, median, or a constant), or using more advanced imputation methods.\n",
    "\n",
    "#Q​14. What are the benefits of using Plotly for data visualization?\n",
    "\n",
    "​Interactivity: Plotly plots are interactive out of the box. Users can zoom, pan, hover over data points to see details, and toggle traces on/off.\n",
    "​Web-Based: Plots are rendered in a browser, making them easily shareable as HTML files and perfect for web-based dashboards and applications.\n",
    "​Rich Plot Types: Supports a wide variety of 2D and 3D plot types, including scatter plots, bar charts, heatmaps, box plots, and more.\n",
    "​Language Agnostic: Plotly has libraries for multiple languages (Python, R, Julia), allowing for cross-platform usage.\n",
    "​Dash Integration: It's the core component of Dash, a framework for building analytical web applications.\n",
    "\n",
    "#Q​15. How does NumPy handle multidimensional arrays?\n",
    "\n",
    "​NumPy's core data structure, the ndarray, is specifically designed to handle multidimensional arrays (tensors) efficiently.\n",
    "​Contiguous Memory: NumPy stores array elements in a contiguous block of memory, which allows for fast, low-level access and manipulation.\n",
    "​Slicing and Indexing: It provides powerful and intuitive multidimensional slicing and indexing capabilities.\n",
    "\n",
    "#Q​16. What is the role of Bokeh in data visualization?\n",
    "\n",
    "​Bokeh is a Python library for creating interactive visualizations for modern web browsers. Its primary role is to build interactive plots, dashboards, and data applications, especially for large datasets.\n",
    "​Key features:\n",
    "​Interactive and Dynamic: Like Plotly, Bokeh's plots are interactive and can be embedded in web applications.\n",
    "​Streaming Data: It is particularly well-suited for streaming data and real-time visualization.\n",
    "​Server Component: Bokeh has a server component that allows for building sophisticated applications with custom user interface elements.\n",
    "​While it shares similarities with Plotly, it's often considered a more \"developer-centric\" tool for building custom, data-driven web applications from the ground up.\n",
    "​Shape and Strides: The ndarray object stores metadata like its shape (a tuple of dimensions) and strides (the number of bytes to skip to get to the next element in each dimension), which allows it to interpret the 1D block of memory as a multidimensional array.\n",
    "\n",
    "#Q17. Explain the difference between apply() and map() in Pandas.\n",
    "\n",
    "​map(): This method is used on a Series to substitute each value in the Series with another value. It's useful for element-wise transformations or for mapping values from a dictionary or another Series.\n",
    "​apply(): This is a more general-purpose method that can be used on both a Series and a DataFrame. It applies a function (either built-in or a custom one) along an axis of the DataFrame (rows or columns). It's more flexible than map() and can handle more complex operations.\n",
    "\n",
    "#Q​18. What are some advanced features of NumPy?\n",
    "\n",
    "​Universal Functions (ufuncs): These are functions that operate on ndarrays in an element-by-element fashion. They are highly optimized and are the basis of many vectorized operations.\n",
    "​Broadcasting: (Answered in Q2) The ability to operate on arrays of different shapes.\n",
    "​Linear Algebra and Fourier Transforms: The numpy.linalg and numpy.fft modules provide powerful tools for complex mathematical operations.\n",
    "​Random Number Generation: The numpy.random module provides a wide range of functions for generating random numbers from various distributions.\n",
    "​Memory-mapped files: NumPy can work with large datasets stored on disk without loading the entire file into memory.\n",
    "​Structured Arrays: Allows for creating heterogeneous arrays with named fields, similar to C structures.\n",
    "\n",
    "#Q​19. How does Pandas simplify time series analysis?\n",
    "\n",
    "​Pandas has a rich set of tools specifically for working with time-series data:\n",
    "​DateTime Index: It has a dedicated DatetimeIndex that simplifies indexing, slicing, and resampling data based on time.\n",
    "​Resampling: The .resample() method allows you to convert the frequency of time-series data (e.g., from daily to monthly data) with built-in aggregation methods.\n",
    "​Time-based Slicing: You can easily slice a DataFrame by date strings, like df['2023-01':'2023-06'].\n",
    "​Rolling/Expanding Windows: The .rolling() and .expanding() methods allow for calculating statistics over a moving window of data, which is crucial for moving averages and other time-series analysis.\n",
    "\n",
    "#Q​20. What is the role of a pivot table in Pandas?\n",
    "\n",
    "​A pivot table reshapes a DataFrame by aggregating data based on unique values in specified columns. It's similar to the pivot table functionality in spreadsheet software like Excel.\n",
    "​Role:\n",
    "​Summarization: It summarizes data in a new table, providing a multi-level index on both rows and columns.\n",
    "​Data Aggregation: It allows you to quickly group and apply aggregation functions (e.g., sum, mean, count) to a large dataset.\n",
    "​Cross-tabulation: It helps in creating cross-tabulation summaries to analyze relationships between two or more variables.\n",
    "\n",
    "#Q​21. Why is NumPy's array slicing faster than Python's list slicing?\n",
    "\n",
    "​NumPy array slicing returns a \"view\" of the original array, not a copy. This means it does not allocate new memory for the sliced portion. It simply creates a new object that points to a specific block of memory within the original array, along with its new shape and strides. This makes the operation incredibly fast.\n",
    "​Python list slicing, in contrast, creates a new list object and copies the elements from the original list into the new one. This involves memory allocation and copying, which is computationally more expensive and time-consuming, especially for large lists.\n",
    "\n",
    "#Q​22. What are some common use cases for Seaborn?\n",
    "\n",
    "​Exploratory Data Analysis (EDA): pairplot(), jointplot(), and histplot() are great for a quick visual overview of a dataset.\n",
    "​Distribution Visualization: histplot(), kdeplot() (Kernel Density Estimate), and violinplot() are used to visualize the distribution of a single variable or compare distributions across categories.\n",
    "​Relational Plots: scatterplot() and lineplot() are used to show relationships between variables.\n",
    "​Statistical Analysis Visualization: lmplot() for linear regression plots, and regplot() for plotting a regression line with a scatter plot.\n",
    "​Categorical Data Visualization: boxplot(), stripplot(), and barplot() are used to compare numerical data across different categories.\n",
    "​Matrix Plots: heatmap() is a key tool for visualizing correlation matrices."
   ]
  },
  {
   "cell_type": "code",
   "execution_count": null,
   "id": "36ce8ab5-5b74-4974-b5e6-74b491b8ebe0",
   "metadata": {},
   "outputs": [],
   "source": [
    "#Q1. Create a 2D NumPy array and calculate the sum of each row\n",
    "\n",
    "import numpy as np\n",
    "\n",
    "arr = np.array([[1, 2, 3], [4, 5, 6], [7, 8, 9]])\n",
    "row_sums = arr.sum(axis=1)\n",
    "print(\"Array:\\n\", arr)\n",
    "print(\"Row sums:\", row_sums)"
   ]
  },
  {
   "cell_type": "code",
   "execution_count": 1,
   "id": "62c04131-524b-4427-9632-553affa270c8",
   "metadata": {},
   "outputs": [
    {
     "ename": "ModuleNotFoundError",
     "evalue": "No module named 'pandas'",
     "output_type": "error",
     "traceback": [
      "\u001b[31m---------------------------------------------------------------------------\u001b[39m",
      "\u001b[31mModuleNotFoundError\u001b[39m                       Traceback (most recent call last)",
      "\u001b[36mCell\u001b[39m\u001b[36m \u001b[39m\u001b[32mIn[1]\u001b[39m\u001b[32m, line 2\u001b[39m\n\u001b[32m      1\u001b[39m \u001b[38;5;66;03m#Q2. Pandas script to find the mean of a specific column\u001b[39;00m\n\u001b[32m----> \u001b[39m\u001b[32m2\u001b[39m \u001b[38;5;28;01mimport\u001b[39;00m\u001b[38;5;250m \u001b[39m\u001b[34;01mpandas\u001b[39;00m\u001b[38;5;250m \u001b[39m\u001b[38;5;28;01mas\u001b[39;00m\u001b[38;5;250m \u001b[39m\u001b[34;01mpd\u001b[39;00m\n\u001b[32m      4\u001b[39m df = pd.DataFrame({\n\u001b[32m      5\u001b[39m     \u001b[33m'\u001b[39m\u001b[33mA\u001b[39m\u001b[33m'\u001b[39m: [\u001b[32m10\u001b[39m, \u001b[32m20\u001b[39m, \u001b[32m30\u001b[39m],\n\u001b[32m      6\u001b[39m     \u001b[33m'\u001b[39m\u001b[33mB\u001b[39m\u001b[33m'\u001b[39m: [\u001b[32m15\u001b[39m, \u001b[32m25\u001b[39m, \u001b[32m35\u001b[39m]\n\u001b[32m      7\u001b[39m })\n\u001b[32m      9\u001b[39m mean_B = df[\u001b[33m'\u001b[39m\u001b[33mB\u001b[39m\u001b[33m'\u001b[39m].mean()\n",
      "\u001b[31mModuleNotFoundError\u001b[39m: No module named 'pandas'"
     ]
    }
   ],
   "source": [
    "#Q2. Pandas script to find the mean of a specific column\n",
    "\n",
    "import pandas as pd\n",
    "\n",
    "df = pd.DataFrame({\n",
    "    'A': [10, 20, 30],\n",
    "    'B': [15, 25, 35]\n",
    "})\n",
    "\n",
    "mean_B = df['B'].mean()\n",
    "print(\"Mean of column B:\", mean_B)\n"
   ]
  },
  {
   "cell_type": "code",
   "execution_count": 2,
   "id": "281a3691-ce6c-45b3-a2d8-63c91adb3b34",
   "metadata": {},
   "outputs": [
    {
     "ename": "ModuleNotFoundError",
     "evalue": "No module named 'matplotlib'",
     "output_type": "error",
     "traceback": [
      "\u001b[31m---------------------------------------------------------------------------\u001b[39m",
      "\u001b[31mModuleNotFoundError\u001b[39m                       Traceback (most recent call last)",
      "\u001b[36mCell\u001b[39m\u001b[36m \u001b[39m\u001b[32mIn[2]\u001b[39m\u001b[32m, line 2\u001b[39m\n\u001b[32m      1\u001b[39m \u001b[38;5;66;03m#Q3. Scatter plot using Matplotlib\u001b[39;00m\n\u001b[32m----> \u001b[39m\u001b[32m2\u001b[39m \u001b[38;5;28;01mimport\u001b[39;00m\u001b[38;5;250m \u001b[39m\u001b[34;01mmatplotlib\u001b[39;00m\u001b[34;01m.\u001b[39;00m\u001b[34;01mpyplot\u001b[39;00m\u001b[38;5;250m \u001b[39m\u001b[38;5;28;01mas\u001b[39;00m\u001b[38;5;250m \u001b[39m\u001b[34;01mplt\u001b[39;00m\n\u001b[32m      4\u001b[39m x = [\u001b[32m5\u001b[39m, \u001b[32m7\u001b[39m, \u001b[32m8\u001b[39m, \u001b[32m7\u001b[39m, \u001b[32m9\u001b[39m, \u001b[32m12\u001b[39m, \u001b[32m15\u001b[39m]\n\u001b[32m      5\u001b[39m y = [\u001b[32m99\u001b[39m, \u001b[32m86\u001b[39m, \u001b[32m87\u001b[39m, \u001b[32m88\u001b[39m, \u001b[32m100\u001b[39m, \u001b[32m86\u001b[39m, \u001b[32m103\u001b[39m]\n",
      "\u001b[31mModuleNotFoundError\u001b[39m: No module named 'matplotlib'"
     ]
    }
   ],
   "source": [
    "#Q3. Scatter plot using Matplotlib\n",
    "\n",
    "import matplotlib.pyplot as plt\n",
    "\n",
    "x = [5, 7, 8, 7, 9, 12, 15]\n",
    "y = [99, 86, 87, 88, 100, 86, 103]\n",
    "\n",
    "plt.scatter(x, y, color='blue')\n",
    "plt.xlabel(\"X values\")\n",
    "plt.ylabel(\"Y values\")\n",
    "plt.title(\"Scatter Plot\")\n",
    "plt.show()\n"
   ]
  },
  {
   "cell_type": "code",
   "execution_count": 13,
   "id": "3c35b5cb-67f5-4fee-81d5-a593aa534526",
   "metadata": {},
   "outputs": [
    {
     "ename": "ModuleNotFoundError",
     "evalue": "No module named 'pandas'",
     "output_type": "error",
     "traceback": [
      "\u001b[31m---------------------------------------------------------------------------\u001b[39m",
      "\u001b[31mModuleNotFoundError\u001b[39m                       Traceback (most recent call last)",
      "\u001b[36mCell\u001b[39m\u001b[36m \u001b[39m\u001b[32mIn[13]\u001b[39m\u001b[32m, line 1\u001b[39m\n\u001b[32m----> \u001b[39m\u001b[32m1\u001b[39m \u001b[38;5;28;01mimport\u001b[39;00m\u001b[38;5;250m \u001b[39m\u001b[34;01mpandas\u001b[39;00m\u001b[38;5;250m \u001b[39m\u001b[38;5;28;01mas\u001b[39;00m\u001b[38;5;250m \u001b[39m\u001b[34;01mpd\u001b[39;00m\n\u001b[32m      2\u001b[39m \u001b[38;5;28;01mimport\u001b[39;00m\u001b[38;5;250m \u001b[39m\u001b[34;01mseaborn\u001b[39;00m\u001b[38;5;250m \u001b[39m\u001b[38;5;28;01mas\u001b[39;00m\u001b[38;5;250m \u001b[39m\u001b[34;01msns\u001b[39;00m\n\u001b[32m      3\u001b[39m \u001b[38;5;28;01mimport\u001b[39;00m\u001b[38;5;250m \u001b[39m\u001b[34;01mmatplotlib\u001b[39;00m\u001b[34;01m.\u001b[39;00m\u001b[34;01mpyplot\u001b[39;00m\u001b[38;5;250m \u001b[39m\u001b[38;5;28;01mas\u001b[39;00m\u001b[38;5;250m \u001b[39m\u001b[34;01mplt\u001b[39;00m\n",
      "\u001b[31mModuleNotFoundError\u001b[39m: No module named 'pandas'"
     ]
    }
   ],
   "source": [
    "#Q4. Correlation matrix using Seaborn (heatmap)\n",
    "\n",
    "import pandas as pd\n",
    "import seaborn as sns\n",
    "import matplotlib.pyplot as plt\n",
    "\n",
    "# Create a sample DataFrame with numerical data\n",
    "data = {'A': [10, 20, 30, 40, 50],\n",
    "        'B': [15, 25, 35, 45, 55],\n",
    "        'C': [50, 40, 30, 20, 10]}\n",
    "df = pd.DataFrame(data)\n",
    "\n",
    "# Calculate the correlation matrix\n",
    "correlation_matrix = df.corr()\n",
    "\n",
    "# Create the heatmap\n",
    "plt.figure(figsize=(8, 6))\n",
    "sns.heatmap(correlation_matrix, annot=True, cmap='coolwarm', fmt=\".2f\")\n",
    "plt.title('Correlation Matrix Heatmap using Seaborn')\n",
    "plt.show()"
   ]
  },
  {
   "cell_type": "code",
   "execution_count": 14,
   "id": "63e823a6-d331-4b6c-bc83-2cb91c5b5398",
   "metadata": {},
   "outputs": [
    {
     "ename": "ModuleNotFoundError",
     "evalue": "No module named 'plotly'",
     "output_type": "error",
     "traceback": [
      "\u001b[31m---------------------------------------------------------------------------\u001b[39m",
      "\u001b[31mModuleNotFoundError\u001b[39m                       Traceback (most recent call last)",
      "\u001b[36mCell\u001b[39m\u001b[36m \u001b[39m\u001b[32mIn[14]\u001b[39m\u001b[32m, line 1\u001b[39m\n\u001b[32m----> \u001b[39m\u001b[32m1\u001b[39m \u001b[38;5;28;01mimport\u001b[39;00m\u001b[38;5;250m \u001b[39m\u001b[34;01mplotly\u001b[39;00m\u001b[34;01m.\u001b[39;00m\u001b[34;01mexpress\u001b[39;00m\u001b[38;5;250m \u001b[39m\u001b[38;5;28;01mas\u001b[39;00m\u001b[38;5;250m \u001b[39m\u001b[34;01mpx\u001b[39;00m\n\u001b[32m      2\u001b[39m \u001b[38;5;28;01mimport\u001b[39;00m\u001b[38;5;250m \u001b[39m\u001b[34;01mpandas\u001b[39;00m\u001b[38;5;250m \u001b[39m\u001b[38;5;28;01mas\u001b[39;00m\u001b[38;5;250m \u001b[39m\u001b[34;01mpd\u001b[39;00m\n\u001b[32m      4\u001b[39m \u001b[38;5;66;03m# Sample data\u001b[39;00m\n",
      "\u001b[31mModuleNotFoundError\u001b[39m: No module named 'plotly'"
     ]
    }
   ],
   "source": [
    "#Q5. Bar plot using Plotly\n",
    "\n",
    "import plotly.express as px\n",
    "import pandas as pd\n",
    "\n",
    "# Sample data\n",
    "data = {'Category': ['A', 'B', 'C', 'D'],\n",
    "        'Value': [23, 45, 12, 34]}\n",
    "df = pd.DataFrame(data)\n",
    "\n",
    "# Create the bar plot\n",
    "fig = px.bar(df, x='Category', y='Value', title='Bar Plot using Plotly')\n",
    "fig.show()"
   ]
  },
  {
   "cell_type": "code",
   "execution_count": 15,
   "id": "c74a34cb-633c-4f50-9564-880044cfe507",
   "metadata": {},
   "outputs": [
    {
     "ename": "ModuleNotFoundError",
     "evalue": "No module named 'pandas'",
     "output_type": "error",
     "traceback": [
      "\u001b[31m---------------------------------------------------------------------------\u001b[39m",
      "\u001b[31mModuleNotFoundError\u001b[39m                       Traceback (most recent call last)",
      "\u001b[36mCell\u001b[39m\u001b[36m \u001b[39m\u001b[32mIn[15]\u001b[39m\u001b[32m, line 1\u001b[39m\n\u001b[32m----> \u001b[39m\u001b[32m1\u001b[39m \u001b[38;5;28;01mimport\u001b[39;00m\u001b[38;5;250m \u001b[39m\u001b[34;01mpandas\u001b[39;00m\u001b[38;5;250m \u001b[39m\u001b[38;5;28;01mas\u001b[39;00m\u001b[38;5;250m \u001b[39m\u001b[34;01mpd\u001b[39;00m\n\u001b[32m      3\u001b[39m \u001b[38;5;66;03m# Create a sample DataFrame\u001b[39;00m\n\u001b[32m      4\u001b[39m data = {\u001b[33m'\u001b[39m\u001b[33mProduct\u001b[39m\u001b[33m'\u001b[39m: [\u001b[33m'\u001b[39m\u001b[33mLaptop\u001b[39m\u001b[33m'\u001b[39m, \u001b[33m'\u001b[39m\u001b[33mMouse\u001b[39m\u001b[33m'\u001b[39m, \u001b[33m'\u001b[39m\u001b[33mKeyboard\u001b[39m\u001b[33m'\u001b[39m],\n\u001b[32m      5\u001b[39m         \u001b[33m'\u001b[39m\u001b[33mPrice\u001b[39m\u001b[33m'\u001b[39m: [\u001b[32m1200\u001b[39m, \u001b[32m25\u001b[39m, \u001b[32m75\u001b[39m]}\n",
      "\u001b[31mModuleNotFoundError\u001b[39m: No module named 'pandas'"
     ]
    }
   ],
   "source": [
    "#Q6. Create DataFrame and add new column from existing\n",
    "\n",
    "import pandas as pd\n",
    "\n",
    "# Create a sample DataFrame\n",
    "data = {'Product': ['Laptop', 'Mouse', 'Keyboard'],\n",
    "        'Price': [1200, 25, 75]}\n",
    "df = pd.DataFrame(data)\n",
    "\n",
    "# Add a new column 'Price_with_Tax' (assuming 8% tax)\n",
    "df['Price_with_Tax'] = df['Price'] * 1.08\n",
    "\n",
    "print(\"Original DataFrame:\")\n",
    "print(df[['Product', 'Price']])\n",
    "print(\"\\nDataFrame with new column:\")\n",
    "print(df)"
   ]
  },
  {
   "cell_type": "code",
   "execution_count": 16,
   "id": "8a8e5c86-297b-4008-aa14-63b9bc5aae6d",
   "metadata": {},
   "outputs": [
    {
     "ename": "ModuleNotFoundError",
     "evalue": "No module named 'numpy'",
     "output_type": "error",
     "traceback": [
      "\u001b[31m---------------------------------------------------------------------------\u001b[39m",
      "\u001b[31mModuleNotFoundError\u001b[39m                       Traceback (most recent call last)",
      "\u001b[36mCell\u001b[39m\u001b[36m \u001b[39m\u001b[32mIn[16]\u001b[39m\u001b[32m, line 1\u001b[39m\n\u001b[32m----> \u001b[39m\u001b[32m1\u001b[39m \u001b[38;5;28;01mimport\u001b[39;00m\u001b[38;5;250m \u001b[39m\u001b[34;01mnumpy\u001b[39;00m\u001b[38;5;250m \u001b[39m\u001b[38;5;28;01mas\u001b[39;00m\u001b[38;5;250m \u001b[39m\u001b[34;01mnp\u001b[39;00m\n\u001b[32m      3\u001b[39m \u001b[38;5;66;03m# Create two NumPy arrays\u001b[39;00m\n\u001b[32m      4\u001b[39m arr1 = np.array([[\u001b[32m1\u001b[39m, \u001b[32m2\u001b[39m, \u001b[32m3\u001b[39m],\n\u001b[32m      5\u001b[39m                  [\u001b[32m4\u001b[39m, \u001b[32m5\u001b[39m, \u001b[32m6\u001b[39m]])\n",
      "\u001b[31mModuleNotFoundError\u001b[39m: No module named 'numpy'"
     ]
    }
   ],
   "source": [
    "#Q7. Element-wise multiplication of two NumPy arrays\n",
    "\n",
    "import numpy as np\n",
    "\n",
    "# Create two NumPy arrays\n",
    "arr1 = np.array([[1, 2, 3],\n",
    "                 [4, 5, 6]])\n",
    "\n",
    "arr2 = np.array([[10, 20, 30],\n",
    "                 [40, 50, 60]])\n",
    "\n",
    "# Perform element-wise multiplication\n",
    "result = arr1 * arr2\n",
    "\n",
    "print(\"Array 1:\")\n",
    "print(arr1)\n",
    "print(\"\\nArray 2:\")\n",
    "print(arr2)\n",
    "print(\"\\nElement-wise multiplication result:\")\n",
    "print(result)"
   ]
  },
  {
   "cell_type": "code",
   "execution_count": 17,
   "id": "689c52cf-6a0e-4dcc-8f71-7d2331a614bf",
   "metadata": {},
   "outputs": [
    {
     "ename": "ModuleNotFoundError",
     "evalue": "No module named 'matplotlib'",
     "output_type": "error",
     "traceback": [
      "\u001b[31m---------------------------------------------------------------------------\u001b[39m",
      "\u001b[31mModuleNotFoundError\u001b[39m                       Traceback (most recent call last)",
      "\u001b[36mCell\u001b[39m\u001b[36m \u001b[39m\u001b[32mIn[17]\u001b[39m\u001b[32m, line 1\u001b[39m\n\u001b[32m----> \u001b[39m\u001b[32m1\u001b[39m \u001b[38;5;28;01mimport\u001b[39;00m\u001b[38;5;250m \u001b[39m\u001b[34;01mmatplotlib\u001b[39;00m\u001b[34;01m.\u001b[39;00m\u001b[34;01mpyplot\u001b[39;00m\u001b[38;5;250m \u001b[39m\u001b[38;5;28;01mas\u001b[39;00m\u001b[38;5;250m \u001b[39m\u001b[34;01mplt\u001b[39;00m\n\u001b[32m      2\u001b[39m \u001b[38;5;28;01mimport\u001b[39;00m\u001b[38;5;250m \u001b[39m\u001b[34;01mnumpy\u001b[39;00m\u001b[38;5;250m \u001b[39m\u001b[38;5;28;01mas\u001b[39;00m\u001b[38;5;250m \u001b[39m\u001b[34;01mnp\u001b[39;00m\n\u001b[32m      4\u001b[39m \u001b[38;5;66;03m# Sample data\u001b[39;00m\n",
      "\u001b[31mModuleNotFoundError\u001b[39m: No module named 'matplotlib'"
     ]
    }
   ],
   "source": [
    "#Q8. Line plot with multiple lines using Matplotlib\n",
    "\n",
    "import matplotlib.pyplot as plt\n",
    "import numpy as np\n",
    "\n",
    "# Sample data\n",
    "x = np.arange(1, 11)\n",
    "y1 = x * 2\n",
    "y2 = x * 3 - 5\n",
    "\n",
    "# Create the line plot\n",
    "plt.figure(figsize=(8, 6))\n",
    "plt.plot(x, y1, label='Line 1', marker='o')\n",
    "plt.plot(x, y2, label='Line 2', marker='x')\n",
    "plt.title('Line Plot with Multiple Lines')\n",
    "plt.xlabel('X-axis')\n",
    "plt.ylabel('Y-axis')\n",
    "plt.legend()\n",
    "plt.grid(True)\n",
    "plt.show()"
   ]
  },
  {
   "cell_type": "code",
   "execution_count": 18,
   "id": "516cfe5e-e53e-453f-8ea9-80e89cb631a7",
   "metadata": {},
   "outputs": [
    {
     "ename": "ModuleNotFoundError",
     "evalue": "No module named 'pandas'",
     "output_type": "error",
     "traceback": [
      "\u001b[31m---------------------------------------------------------------------------\u001b[39m",
      "\u001b[31mModuleNotFoundError\u001b[39m                       Traceback (most recent call last)",
      "\u001b[36mCell\u001b[39m\u001b[36m \u001b[39m\u001b[32mIn[18]\u001b[39m\u001b[32m, line 1\u001b[39m\n\u001b[32m----> \u001b[39m\u001b[32m1\u001b[39m \u001b[38;5;28;01mimport\u001b[39;00m\u001b[38;5;250m \u001b[39m\u001b[34;01mpandas\u001b[39;00m\u001b[38;5;250m \u001b[39m\u001b[38;5;28;01mas\u001b[39;00m\u001b[38;5;250m \u001b[39m\u001b[34;01mpd\u001b[39;00m\n\u001b[32m      3\u001b[39m \u001b[38;5;66;03m# Create a sample DataFrame\u001b[39;00m\n\u001b[32m      4\u001b[39m data = {\u001b[33m'\u001b[39m\u001b[33mItem\u001b[39m\u001b[33m'\u001b[39m: [\u001b[33m'\u001b[39m\u001b[33mApple\u001b[39m\u001b[33m'\u001b[39m, \u001b[33m'\u001b[39m\u001b[33mBanana\u001b[39m\u001b[33m'\u001b[39m, \u001b[33m'\u001b[39m\u001b[33mOrange\u001b[39m\u001b[33m'\u001b[39m, \u001b[33m'\u001b[39m\u001b[33mGrape\u001b[39m\u001b[33m'\u001b[39m],\n\u001b[32m      5\u001b[39m         \u001b[33m'\u001b[39m\u001b[33mPrice\u001b[39m\u001b[33m'\u001b[39m: [\u001b[32m1.2\u001b[39m, \u001b[32m0.5\u001b[39m, \u001b[32m1.8\u001b[39m, \u001b[32m2.5\u001b[39m]}\n",
      "\u001b[31mModuleNotFoundError\u001b[39m: No module named 'pandas'"
     ]
    }
   ],
   "source": [
    "#Q9. Filter rows in Pandas DataFrame where value > threshold\n",
    "\n",
    "import pandas as pd\n",
    "\n",
    "# Create a sample DataFrame\n",
    "data = {'Item': ['Apple', 'Banana', 'Orange', 'Grape'],\n",
    "        'Price': [1.2, 0.5, 1.8, 2.5]}\n",
    "df = pd.DataFrame(data)\n",
    "\n",
    "# Filter rows where the 'Price' is greater than 1.5\n",
    "filtered_df = df[df['Price'] > 1.5]\n",
    "\n",
    "print(\"Original DataFrame:\")\n",
    "print(df)\n",
    "print(\"\\nFiltered DataFrame (Price > 1.5):\")\n",
    "print(filtered_df)"
   ]
  },
  {
   "cell_type": "code",
   "execution_count": 19,
   "id": "470229c5-40e3-4ad1-bb4e-c27dfcf891e5",
   "metadata": {},
   "outputs": [
    {
     "ename": "ModuleNotFoundError",
     "evalue": "No module named 'seaborn'",
     "output_type": "error",
     "traceback": [
      "\u001b[31m---------------------------------------------------------------------------\u001b[39m",
      "\u001b[31mModuleNotFoundError\u001b[39m                       Traceback (most recent call last)",
      "\u001b[36mCell\u001b[39m\u001b[36m \u001b[39m\u001b[32mIn[19]\u001b[39m\u001b[32m, line 1\u001b[39m\n\u001b[32m----> \u001b[39m\u001b[32m1\u001b[39m \u001b[38;5;28;01mimport\u001b[39;00m\u001b[38;5;250m \u001b[39m\u001b[34;01mseaborn\u001b[39;00m\u001b[38;5;250m \u001b[39m\u001b[38;5;28;01mas\u001b[39;00m\u001b[38;5;250m \u001b[39m\u001b[34;01msns\u001b[39;00m\n\u001b[32m      2\u001b[39m \u001b[38;5;28;01mimport\u001b[39;00m\u001b[38;5;250m \u001b[39m\u001b[34;01mmatplotlib\u001b[39;00m\u001b[34;01m.\u001b[39;00m\u001b[34;01mpyplot\u001b[39;00m\u001b[38;5;250m \u001b[39m\u001b[38;5;28;01mas\u001b[39;00m\u001b[38;5;250m \u001b[39m\u001b[34;01mplt\u001b[39;00m\n\u001b[32m      3\u001b[39m \u001b[38;5;28;01mimport\u001b[39;00m\u001b[38;5;250m \u001b[39m\u001b[34;01mnumpy\u001b[39;00m\u001b[38;5;250m \u001b[39m\u001b[38;5;28;01mas\u001b[39;00m\u001b[38;5;250m \u001b[39m\u001b[34;01mnp\u001b[39;00m\n",
      "\u001b[31mModuleNotFoundError\u001b[39m: No module named 'seaborn'"
     ]
    }
   ],
   "source": [
    "#Q10. Histogram using Seaborn\n",
    "\n",
    "import seaborn as sns\n",
    "import matplotlib.pyplot as plt\n",
    "import numpy as np\n",
    "\n",
    "# Generate random data\n",
    "data = np.random.normal(loc=50, scale=10, size=1000)\n",
    "\n",
    "# Create the histogram\n",
    "plt.figure(figsize=(8, 6))\n",
    "sns.histplot(data, bins=30, kde=True)\n",
    "plt.title('Histogram of a Distribution')\n",
    "plt.xlabel('Value')\n",
    "plt.ylabel('Frequency')\n",
    "plt.show()"
   ]
  },
  {
   "cell_type": "code",
   "execution_count": null,
   "id": "06fcf749-c540-4481-990d-44a987c01ecb",
   "metadata": {},
   "outputs": [],
   "source": []
  },
  {
   "cell_type": "code",
   "execution_count": 20,
   "id": "cea378ea-10a7-4384-bea6-c79e111661ed",
   "metadata": {},
   "outputs": [
    {
     "ename": "ModuleNotFoundError",
     "evalue": "No module named 'numpy'",
     "output_type": "error",
     "traceback": [
      "\u001b[31m---------------------------------------------------------------------------\u001b[39m",
      "\u001b[31mModuleNotFoundError\u001b[39m                       Traceback (most recent call last)",
      "\u001b[36mCell\u001b[39m\u001b[36m \u001b[39m\u001b[32mIn[20]\u001b[39m\u001b[32m, line 1\u001b[39m\n\u001b[32m----> \u001b[39m\u001b[32m1\u001b[39m \u001b[38;5;28;01mimport\u001b[39;00m\u001b[38;5;250m \u001b[39m\u001b[34;01mnumpy\u001b[39;00m\u001b[38;5;250m \u001b[39m\u001b[38;5;28;01mas\u001b[39;00m\u001b[38;5;250m \u001b[39m\u001b[34;01mnp\u001b[39;00m\n\u001b[32m      3\u001b[39m \u001b[38;5;66;03m# Create two matrices\u001b[39;00m\n\u001b[32m      4\u001b[39m matrix1 = np.array([[\u001b[32m1\u001b[39m, \u001b[32m2\u001b[39m],\n\u001b[32m      5\u001b[39m                     [\u001b[32m3\u001b[39m, \u001b[32m4\u001b[39m]])\n",
      "\u001b[31mModuleNotFoundError\u001b[39m: No module named 'numpy'"
     ]
    }
   ],
   "source": [
    "#Q11. Matrix multiplication using NumPy\n",
    "\n",
    "import numpy as np\n",
    "\n",
    "# Create two matrices\n",
    "matrix1 = np.array([[1, 2],\n",
    "                    [3, 4]])\n",
    "\n",
    "matrix2 = np.array([[5, 6],\n",
    "                    [7, 8]])\n",
    "\n",
    "# Perform matrix multiplication using the @ operator\n",
    "result_at = matrix1 @ matrix2\n",
    "\n",
    "# Perform matrix multiplication using np.dot()\n",
    "result_dot = np.dot(matrix1, matrix2)\n",
    "\n",
    "print(\"Matrix 1:\")\n",
    "print(matrix1)\n",
    "print(\"\\nMatrix 2:\")\n",
    "print(matrix2)\n",
    "print(\"\\nMatrix multiplication result:\")\n",
    "print(result_at)"
   ]
  },
  {
   "cell_type": "code",
   "execution_count": 21,
   "id": "187205c6-6cdd-4604-a33b-bef8072c7dd3",
   "metadata": {},
   "outputs": [
    {
     "ename": "ModuleNotFoundError",
     "evalue": "No module named 'pandas'",
     "output_type": "error",
     "traceback": [
      "\u001b[31m---------------------------------------------------------------------------\u001b[39m",
      "\u001b[31mModuleNotFoundError\u001b[39m                       Traceback (most recent call last)",
      "\u001b[36mCell\u001b[39m\u001b[36m \u001b[39m\u001b[32mIn[21]\u001b[39m\u001b[32m, line 1\u001b[39m\n\u001b[32m----> \u001b[39m\u001b[32m1\u001b[39m \u001b[38;5;28;01mimport\u001b[39;00m\u001b[38;5;250m \u001b[39m\u001b[34;01mpandas\u001b[39;00m\u001b[38;5;250m \u001b[39m\u001b[38;5;28;01mas\u001b[39;00m\u001b[38;5;250m \u001b[39m\u001b[34;01mpd\u001b[39;00m\n\u001b[32m      2\u001b[39m \u001b[38;5;28;01mimport\u001b[39;00m\u001b[38;5;250m \u001b[39m\u001b[34;01mio\u001b[39;00m\n\u001b[32m      4\u001b[39m \u001b[38;5;66;03m# Create a sample CSV data string to simulate a file\u001b[39;00m\n",
      "\u001b[31mModuleNotFoundError\u001b[39m: No module named 'pandas'"
     ]
    }
   ],
   "source": [
    "#Q12. Load CSV in Pandas and display first 5 rows\n",
    "\n",
    "import pandas as pd\n",
    "import io\n",
    "\n",
    "# Create a sample CSV data string to simulate a file\n",
    "csv_data = \"\"\"Name,Age,City\n",
    "Alice,25,New York\n",
    "Bob,30,Los Angeles\n",
    "Charlie,35,Chicago\n",
    "David,40,Houston\n",
    "Eve,28,Phoenix\n",
    "Frank,32,Philadelphia\n",
    "\"\"\"\n",
    "csv_file = io.StringIO(csv_data)\n",
    "\n",
    "# Load the CSV file into a DataFrame\n",
    "df = pd.read_csv(csv_file)\n",
    "\n",
    "# Display the first 5 rows\n",
    "print(\"The first 5 rows of the DataFrame:\")\n",
    "print(df.head())"
   ]
  },
  {
   "cell_type": "code",
   "execution_count": 22,
   "id": "cce589e1-c6e0-47b2-be14-56ce970f5ff6",
   "metadata": {},
   "outputs": [
    {
     "ename": "ModuleNotFoundError",
     "evalue": "No module named 'plotly'",
     "output_type": "error",
     "traceback": [
      "\u001b[31m---------------------------------------------------------------------------\u001b[39m",
      "\u001b[31mModuleNotFoundError\u001b[39m                       Traceback (most recent call last)",
      "\u001b[36mCell\u001b[39m\u001b[36m \u001b[39m\u001b[32mIn[22]\u001b[39m\u001b[32m, line 1\u001b[39m\n\u001b[32m----> \u001b[39m\u001b[32m1\u001b[39m \u001b[38;5;28;01mimport\u001b[39;00m\u001b[38;5;250m \u001b[39m\u001b[34;01mplotly\u001b[39;00m\u001b[34;01m.\u001b[39;00m\u001b[34;01mexpress\u001b[39;00m\u001b[38;5;250m \u001b[39m\u001b[38;5;28;01mas\u001b[39;00m\u001b[38;5;250m \u001b[39m\u001b[34;01mpx\u001b[39;00m\n\u001b[32m      2\u001b[39m \u001b[38;5;28;01mimport\u001b[39;00m\u001b[38;5;250m \u001b[39m\u001b[34;01mpandas\u001b[39;00m\u001b[38;5;250m \u001b[39m\u001b[38;5;28;01mas\u001b[39;00m\u001b[38;5;250m \u001b[39m\u001b[34;01mpd\u001b[39;00m\n\u001b[32m      3\u001b[39m \u001b[38;5;28;01mimport\u001b[39;00m\u001b[38;5;250m \u001b[39m\u001b[34;01mnumpy\u001b[39;00m\u001b[38;5;250m \u001b[39m\u001b[38;5;28;01mas\u001b[39;00m\u001b[38;5;250m \u001b[39m\u001b[34;01mnp\u001b[39;00m\n",
      "\u001b[31mModuleNotFoundError\u001b[39m: No module named 'plotly'"
     ]
    }
   ],
   "source": [
    "#Q13. 3D Scatter plot using Plotly\n",
    "\n",
    "import plotly.express as px\n",
    "import pandas as pd\n",
    "import numpy as np\n",
    "\n",
    "# Sample 3D data\n",
    "np.random.seed(42)\n",
    "df = pd.DataFrame({\n",
    "    'x': np.random.rand(100) * 10,\n",
    "    'y': np.random.rand(100) * 10,\n",
    "    'z': np.random.rand(100) * 10,\n",
    "    'size': np.random.rand(100) * 15,\n",
    "    'color': np.random.randint(0, 5, 100)\n",
    "})\n",
    "\n",
    "# Create the 3D scatter plot\n",
    "fig = px.scatter_3d(df, x='x', y='y', z='z',\n",
    "                    color='color', size='size',\n",
    "                    title='3D Scatter Plot using Plotly')\n",
    "fig.show()"
   ]
  },
  {
   "cell_type": "code",
   "execution_count": null,
   "id": "622f4334-6c26-4579-957a-d30ff385b057",
   "metadata": {},
   "outputs": [],
   "source": []
  }
 ],
 "metadata": {
  "kernelspec": {
   "display_name": "Python 3 (ipykernel)",
   "language": "python",
   "name": "python3"
  },
  "language_info": {
   "codemirror_mode": {
    "name": "ipython",
    "version": 3
   },
   "file_extension": ".py",
   "mimetype": "text/x-python",
   "name": "python",
   "nbconvert_exporter": "python",
   "pygments_lexer": "ipython3",
   "version": "3.13.5"
  }
 },
 "nbformat": 4,
 "nbformat_minor": 5
}
